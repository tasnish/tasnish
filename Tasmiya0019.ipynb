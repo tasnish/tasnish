{
  "nbformat": 4,
  "nbformat_minor": 0,
  "metadata": {
    "colab": {
      "provenance": [],
      "authorship_tag": "ABX9TyN12erhBppASCEa4YX/E3d4",
      "include_colab_link": true
    },
    "kernelspec": {
      "name": "python3",
      "display_name": "Python 3"
    },
    "language_info": {
      "name": "python"
    }
  },
  "cells": [
    {
      "cell_type": "markdown",
      "metadata": {
        "id": "view-in-github",
        "colab_type": "text"
      },
      "source": [
        "<a href=\"https://colab.research.google.com/github/tasnish/tasnish/blob/main/Tasmiya0019.ipynb\" target=\"_parent\"><img src=\"https://colab.research.google.com/assets/colab-badge.svg\" alt=\"Open In Colab\"/></a>"
      ]
    },
    {
      "cell_type": "markdown",
      "source": [
        "code to print all the keywords present in python"
      ],
      "metadata": {
        "id": "DblkiNrSFoRO"
      }
    },
    {
      "cell_type": "code",
      "source": [
        "import keyword\n",
        "print(keyword.kwlist)\n",
        "a=len(keyword.kwlist)\n",
        "print(a)"
      ],
      "metadata": {
        "colab": {
          "base_uri": "https://localhost:8080/"
        },
        "id": "uXsRy-j5Flt2",
        "outputId": "1c8960c7-3fe6-496f-980c-9a30e4b9e9d4"
      },
      "execution_count": null,
      "outputs": [
        {
          "output_type": "stream",
          "name": "stdout",
          "text": [
            "['False', 'None', 'True', 'and', 'as', 'assert', 'async', 'await', 'break', 'class', 'continue', 'def', 'del', 'elif', 'else', 'except', 'finally', 'for', 'from', 'global', 'if', 'import', 'in', 'is', 'lambda', 'nonlocal', 'not', 'or', 'pass', 'raise', 'return', 'try', 'while', 'with', 'yield']\n",
            "35\n"
          ]
        }
      ]
    },
    {
      "cell_type": "code",
      "source": [
        "#single line comment--->shows the single line comment.\n",
        "print('hello my dear friends')"
      ],
      "metadata": {
        "colab": {
          "base_uri": "https://localhost:8080/"
        },
        "id": "U8JyU0JXF09u",
        "outputId": "9c769a21-3702-4223-9d8a-1e42c5e9b7fd"
      },
      "execution_count": null,
      "outputs": [
        {
          "output_type": "stream",
          "name": "stdout",
          "text": [
            "hello my dear friends\n"
          ]
        }
      ]
    },
    {
      "cell_type": "code",
      "source": [
        "\"\"\"\n",
        "multi line comment\n",
        "how are you all\n",
        "have a nice day guys\n",
        "\"\"\"\n",
        "print('hello CSE people')"
      ],
      "metadata": {
        "colab": {
          "base_uri": "https://localhost:8080/"
        },
        "id": "CbRZAbyBF2Gl",
        "outputId": "3fb93d27-cdd6-463f-9e77-e87644a605f3"
      },
      "execution_count": null,
      "outputs": [
        {
          "output_type": "stream",
          "name": "stdout",
          "text": [
            "hello CSE people\n"
          ]
        }
      ]
    },
    {
      "cell_type": "code",
      "source": [
        "#exampl1:\n",
        "#here 3 variables have been created and stored the values as shown below\n",
        "a=50\n",
        "b=50\n",
        "c=a+b\n",
        "print(c)\n",
        "#example 2 on strings\n",
        "x='hello'\n",
        "x"
      ],
      "metadata": {
        "colab": {
          "base_uri": "https://localhost:8080/",
          "height": 53
        },
        "id": "z7iK3ExRF5xu",
        "outputId": "8d22d7d8-8240-46e7-c00c-84000a001a29"
      },
      "execution_count": null,
      "outputs": [
        {
          "output_type": "stream",
          "name": "stdout",
          "text": [
            "100\n"
          ]
        },
        {
          "output_type": "execute_result",
          "data": {
            "text/plain": [
              "'hello'"
            ],
            "application/vnd.google.colaboratory.intrinsic+json": {
              "type": "string"
            }
          },
          "metadata": {},
          "execution_count": 5
        }
      ]
    },
    {
      "cell_type": "code",
      "source": [
        "#Creating a list with constructor()\n",
        "a=([1,2,3,4,5])\n",
        "b=([2.4,7.0,6.8])\n",
        "c=(['hello','students'])\n",
        "print(a)\n",
        "print(b)\n",
        "print(c)"
      ],
      "metadata": {
        "colab": {
          "base_uri": "https://localhost:8080/"
        },
        "id": "tXbqF7wtGGb-",
        "outputId": "18408a21-9da8-4990-c5bb-9d2574a65375"
      },
      "execution_count": null,
      "outputs": [
        {
          "output_type": "stream",
          "name": "stdout",
          "text": [
            "[1, 2, 3, 4, 5]\n",
            "[2.4, 7.0, 6.8]\n",
            "['hello', 'students']\n"
          ]
        }
      ]
    },
    {
      "cell_type": "code",
      "source": [
        "type(a)"
      ],
      "metadata": {
        "colab": {
          "base_uri": "https://localhost:8080/"
        },
        "id": "_qNCwX46GI5V",
        "outputId": "d48d6e21-e9b1-4d1e-cd31-00b8c2739db2"
      },
      "execution_count": null,
      "outputs": [
        {
          "output_type": "execute_result",
          "data": {
            "text/plain": [
              "list"
            ]
          },
          "metadata": {},
          "execution_count": 7
        }
      ]
    },
    {
      "cell_type": "code",
      "source": [
        "#creating list with heterogenous data:\n",
        "a=(['hello',8,9,20.77])\n",
        "a"
      ],
      "metadata": {
        "colab": {
          "base_uri": "https://localhost:8080/"
        },
        "id": "RuTXnDoyGLy0",
        "outputId": "e2e93bcf-03c3-4b26-be05-a00debfd16d3"
      },
      "execution_count": null,
      "outputs": [
        {
          "output_type": "execute_result",
          "data": {
            "text/plain": [
              "['hello', 8, 9, 20.77]"
            ]
          },
          "metadata": {},
          "execution_count": 8
        }
      ]
    },
    {
      "cell_type": "code",
      "source": [
        "#create list using range function:\n",
        "L=list(range(0,6))\n",
        "print(L)\n"
      ],
      "metadata": {
        "colab": {
          "base_uri": "https://localhost:8080/"
        },
        "id": "iVN6DpVuGMvl",
        "outputId": "e213a53e-fe34-4f85-d9cc-80106b6295b7"
      },
      "execution_count": null,
      "outputs": [
        {
          "output_type": "stream",
          "name": "stdout",
          "text": [
            "[0, 1, 2, 3, 4, 5]\n"
          ]
        }
      ]
    },
    {
      "cell_type": "code",
      "source": [
        "#creating a list without constructor():\n",
        "days=['monday','tuesday','wednesday','thursday','friday','saturday','sunday']\n",
        "days"
      ],
      "metadata": {
        "id": "cP91-6aaGPlN"
      },
      "execution_count": null,
      "outputs": []
    },
    {
      "cell_type": "code",
      "source": [
        "#accesing list items using index values:\n",
        "days[1]"
      ],
      "metadata": {
        "colab": {
          "base_uri": "https://localhost:8080/",
          "height": 35
        },
        "id": "m0duv5DdGSY9",
        "outputId": "dbc4a51f-c3ed-4d2b-aa70-c1c3ccb0b93f"
      },
      "execution_count": null,
      "outputs": [
        {
          "output_type": "execute_result",
          "data": {
            "text/plain": [
              "'tuesday'"
            ],
            "application/vnd.google.colaboratory.intrinsic+json": {
              "type": "string"
            }
          },
          "metadata": {},
          "execution_count": 57
        }
      ]
    },
    {
      "cell_type": "code",
      "source": [
        "#negative indexing:\n",
        "#creating a list without constructor():\n",
        "days=['monday','tuesday','wednesday','thursday','friday','saturday','sunday']\n",
        "days[-1]"
      ],
      "metadata": {
        "colab": {
          "base_uri": "https://localhost:8080/",
          "height": 35
        },
        "id": "n1mPatkeGU4V",
        "outputId": "2c5196dd-7220-4744-9d65-ac37ba266b67"
      },
      "execution_count": null,
      "outputs": [
        {
          "output_type": "execute_result",
          "data": {
            "text/plain": [
              "'sunday'"
            ],
            "application/vnd.google.colaboratory.intrinsic+json": {
              "type": "string"
            }
          },
          "metadata": {},
          "execution_count": 11
        }
      ]
    },
    {
      "cell_type": "code",
      "source": [
        "days[:]\n"
      ],
      "metadata": {
        "colab": {
          "base_uri": "https://localhost:8080/"
        },
        "id": "2FmW2Gk3GeQH",
        "outputId": "484db63e-db1a-4747-cf74-3a8b51c0af0f"
      },
      "execution_count": null,
      "outputs": [
        {
          "output_type": "execute_result",
          "data": {
            "text/plain": [
              "['monday', 'tuesday', 'wednesday', 'thursday', 'friday', 'saturday', 'sunday']"
            ]
          },
          "metadata": {},
          "execution_count": 12
        }
      ]
    },
    {
      "cell_type": "code",
      "source": [
        "#list slicing:\n",
        "days[1:4]"
      ],
      "metadata": {
        "colab": {
          "base_uri": "https://localhost:8080/"
        },
        "id": "xHWgR1_rGhiu",
        "outputId": "09e0039b-1d37-4e5d-af7a-436f0b2e2040"
      },
      "execution_count": null,
      "outputs": [
        {
          "output_type": "execute_result",
          "data": {
            "text/plain": [
              "['tuesday', 'wednesday', 'thursday']"
            ]
          },
          "metadata": {},
          "execution_count": 13
        }
      ]
    },
    {
      "cell_type": "code",
      "source": [
        "#list slicing with step size:\n",
        "days=['monday','tuesday','wednesday','thursday','friday','saturday','sunday']\n",
        "days[1:4:2]"
      ],
      "metadata": {
        "colab": {
          "base_uri": "https://localhost:8080/"
        },
        "id": "4PWOjoVYGkEm",
        "outputId": "d31f0dbf-d221-4d03-bbfc-6a9b2baabd0c"
      },
      "execution_count": null,
      "outputs": [
        {
          "output_type": "execute_result",
          "data": {
            "text/plain": [
              "['tuesday', 'thursday']"
            ]
          },
          "metadata": {},
          "execution_count": 14
        }
      ]
    },
    {
      "cell_type": "code",
      "source": [
        "days=['monday','tuesday','wednesday','thursday','friday','saturday','sunday']\n",
        "len(days)"
      ],
      "metadata": {
        "colab": {
          "base_uri": "https://localhost:8080/"
        },
        "id": "niiW1AGmGn1P",
        "outputId": "d3b3e43d-6771-45cd-d737-f05f6c54458b"
      },
      "execution_count": null,
      "outputs": [
        {
          "output_type": "execute_result",
          "data": {
            "text/plain": [
              "7"
            ]
          },
          "metadata": {},
          "execution_count": 34
        }
      ]
    },
    {
      "cell_type": "code",
      "source": [
        "numbers=[1,2,3,4,5,6,7,8]\n",
        "max(numbers)"
      ],
      "metadata": {
        "colab": {
          "base_uri": "https://localhost:8080/"
        },
        "id": "Ndp6sO7wGogX",
        "outputId": "4c5317f2-44c1-40f6-bb6d-e63843328690"
      },
      "execution_count": null,
      "outputs": [
        {
          "output_type": "execute_result",
          "data": {
            "text/plain": [
              "8"
            ]
          },
          "metadata": {},
          "execution_count": 35
        }
      ]
    },
    {
      "cell_type": "code",
      "source": [
        "numbers=[1,2,3,4,5,6,7,8]\n",
        "min(numbers)"
      ],
      "metadata": {
        "colab": {
          "base_uri": "https://localhost:8080/"
        },
        "id": "pio8arY_GqjO",
        "outputId": "3353d265-5cff-4f5d-80ff-5a2edf51cfe9"
      },
      "execution_count": null,
      "outputs": [
        {
          "output_type": "execute_result",
          "data": {
            "text/plain": [
              "1"
            ]
          },
          "metadata": {},
          "execution_count": 38
        }
      ]
    },
    {
      "cell_type": "code",
      "source": [
        "numbers=[1,2,3,4,5,6,7,8]\n",
        "sum(numbers)"
      ],
      "metadata": {
        "colab": {
          "base_uri": "https://localhost:8080/"
        },
        "id": "VRgJbhoIGsTX",
        "outputId": "56e9e8a8-6d04-48ce-877f-c39d74e0b039"
      },
      "execution_count": null,
      "outputs": [
        {
          "output_type": "execute_result",
          "data": {
            "text/plain": [
              "36"
            ]
          },
          "metadata": {},
          "execution_count": 36
        }
      ]
    },
    {
      "cell_type": "code",
      "source": [
        "import random\n",
        "numbers=[1,2,3,4,5,6,7,8]\n",
        "random.shuffle(numbers)\n",
        "print(numbers)"
      ],
      "metadata": {
        "colab": {
          "base_uri": "https://localhost:8080/"
        },
        "id": "SRiW-gW7GuMX",
        "outputId": "85624d4e-2899-437b-ffa2-deb37e724768"
      },
      "execution_count": null,
      "outputs": [
        {
          "output_type": "stream",
          "name": "stdout",
          "text": [
            "[4, 6, 8, 1, 2, 7, 5, 3]\n"
          ]
        }
      ]
    },
    {
      "cell_type": "markdown",
      "source": [
        "Operators"
      ],
      "metadata": {
        "id": "vD6C-ok5G6mn"
      }
    },
    {
      "cell_type": "code",
      "source": [
        "a=[1,2,3]\n",
        "b=[4,5,6]\n",
        "c=a+b\n",
        "print(c)"
      ],
      "metadata": {
        "colab": {
          "base_uri": "https://localhost:8080/"
        },
        "id": "Uei-aLCsGwcX",
        "outputId": "59ab2109-9b79-416e-aac2-253f4d79c15a"
      },
      "execution_count": null,
      "outputs": [
        {
          "output_type": "stream",
          "name": "stdout",
          "text": [
            "[1, 2, 3, 4, 5, 6]\n"
          ]
        }
      ]
    },
    {
      "cell_type": "code",
      "source": [
        "a=[10,20]\n",
        "b=3*a\n",
        "print(b)"
      ],
      "metadata": {
        "colab": {
          "base_uri": "https://localhost:8080/"
        },
        "id": "kiFnk9XVHHpf",
        "outputId": "45dbb875-5d2b-4ed5-edad-11802de9c798"
      },
      "execution_count": null,
      "outputs": [
        {
          "output_type": "stream",
          "name": "stdout",
          "text": [
            "[10, 20, 10, 20, 10, 20]\n"
          ]
        }
      ]
    },
    {
      "cell_type": "code",
      "source": [
        "days=['monday','tuesday','wednesday','thursday','friday','saturday','sunday']\n",
        "'wednesday' in days"
      ],
      "metadata": {
        "colab": {
          "base_uri": "https://localhost:8080/"
        },
        "id": "jyrLtNaTHJf3",
        "outputId": "b8178b79-e2e3-4a02-f79b-fe760fc4de98"
      },
      "execution_count": null,
      "outputs": [
        {
          "output_type": "execute_result",
          "data": {
            "text/plain": [
              "True"
            ]
          },
          "metadata": {},
          "execution_count": 31
        }
      ]
    },
    {
      "cell_type": "code",
      "source": [
        "days=['monday','tuesday','wednesday','thursday','friday','saturday','sunday']\n",
        "'wednesday' not in days"
      ],
      "metadata": {
        "colab": {
          "base_uri": "https://localhost:8080/"
        },
        "id": "IdnDO8CuHLNH",
        "outputId": "a0fd803f-63c2-4f68-eac0-b46ba22c3195"
      },
      "execution_count": null,
      "outputs": [
        {
          "output_type": "execute_result",
          "data": {
            "text/plain": [
              "False"
            ]
          },
          "metadata": {},
          "execution_count": 30
        }
      ]
    },
    {
      "cell_type": "code",
      "source": [
        "a='Arshiya'\n",
        "b='Arshiya'\n",
        "a is b\n"
      ],
      "metadata": {
        "colab": {
          "base_uri": "https://localhost:8080/"
        },
        "id": "2WDXLRswHQJn",
        "outputId": "e7ed03d6-1765-4082-d830-0aab913595b6"
      },
      "execution_count": null,
      "outputs": [
        {
          "output_type": "execute_result",
          "data": {
            "text/plain": [
              "True"
            ]
          },
          "metadata": {},
          "execution_count": 29
        }
      ]
    },
    {
      "cell_type": "code",
      "source": [
        "a='Arshiya'\n",
        "b='Lubna'\n",
        "a is b"
      ],
      "metadata": {
        "colab": {
          "base_uri": "https://localhost:8080/"
        },
        "id": "nRu0g8-AHSUn",
        "outputId": "c2fdd9e9-746d-4551-ea86-875622dddd14"
      },
      "execution_count": null,
      "outputs": [
        {
          "output_type": "execute_result",
          "data": {
            "text/plain": [
              "False"
            ]
          },
          "metadata": {},
          "execution_count": 28
        }
      ]
    },
    {
      "cell_type": "code",
      "source": [
        "days=['monday','tuesday','wednesday','thursday','friday','saturday','sunday']\n",
        "del[days[1]]\n",
        "days"
      ],
      "metadata": {
        "colab": {
          "base_uri": "https://localhost:8080/"
        },
        "id": "E4epq2GfHS2_",
        "outputId": "6df5de6d-c44c-46da-d748-9eb07f72fe5c"
      },
      "execution_count": null,
      "outputs": [
        {
          "output_type": "execute_result",
          "data": {
            "text/plain": [
              "['monday', 'wednesday', 'thursday', 'friday', 'saturday', 'sunday']"
            ]
          },
          "metadata": {},
          "execution_count": 27
        }
      ]
    },
    {
      "cell_type": "markdown",
      "source": [
        "Methods"
      ],
      "metadata": {
        "id": "eFH1bNpAHUkP"
      }
    },
    {
      "cell_type": "code",
      "source": [
        "a=['a','b','c','d']\n",
        "print(a)\n",
        "a.append('e')\n",
        "print(a)"
      ],
      "metadata": {
        "colab": {
          "base_uri": "https://localhost:8080/"
        },
        "id": "53tJu5M4HWNn",
        "outputId": "be989387-6329-4edb-9f11-8146e4ec8085"
      },
      "execution_count": null,
      "outputs": [
        {
          "output_type": "stream",
          "name": "stdout",
          "text": [
            "['a', 'b', 'c', 'd']\n",
            "['a', 'b', 'c', 'd', 'e']\n"
          ]
        }
      ]
    },
    {
      "cell_type": "code",
      "source": [
        "list=['red','orange','pink','black']\n",
        "print(list)\n",
        "list.clear()\n",
        "print(list)"
      ],
      "metadata": {
        "colab": {
          "base_uri": "https://localhost:8080/"
        },
        "id": "Gw4qsM63HZoX",
        "outputId": "8246ef9b-d028-485a-85da-a8a6e93ef620"
      },
      "execution_count": null,
      "outputs": [
        {
          "output_type": "stream",
          "name": "stdout",
          "text": [
            "['red', 'orange', 'pink', 'black']\n",
            "[]\n"
          ]
        }
      ]
    },
    {
      "cell_type": "code",
      "source": [
        "nums=[1,2,3,4,1,4,1,7,8,1]\n",
        "print(nums)\n",
        "nums.count(1)"
      ],
      "metadata": {
        "colab": {
          "base_uri": "https://localhost:8080/"
        },
        "id": "y1NwNAMHHcCH",
        "outputId": "d050704b-0359-4c6c-871d-d62c930b4b24"
      },
      "execution_count": null,
      "outputs": [
        {
          "output_type": "stream",
          "name": "stdout",
          "text": [
            "[1, 2, 3, 4, 1, 4, 1, 7, 8, 1]\n"
          ]
        },
        {
          "output_type": "execute_result",
          "data": {
            "text/plain": [
              "4"
            ]
          },
          "metadata": {},
          "execution_count": 23
        }
      ]
    },
    {
      "cell_type": "code",
      "source": [
        "list_1=[1,2,3,4]\n",
        "print(list_1)\n",
        "list_2=list_1.copy()\n",
        "print(list_2)"
      ],
      "metadata": {
        "colab": {
          "base_uri": "https://localhost:8080/"
        },
        "id": "mXdKv77yHd8f",
        "outputId": "41b4c36d-6699-48f2-8772-9d80d0568f07"
      },
      "execution_count": null,
      "outputs": [
        {
          "output_type": "stream",
          "name": "stdout",
          "text": [
            "[1, 2, 3, 4]\n",
            "[1, 2, 3, 4]\n"
          ]
        }
      ]
    },
    {
      "cell_type": "code",
      "source": [
        "A=[1,3,2,4,5]\n",
        "B=[5,6,7,3,6]\n",
        "print(A)\n",
        "print(B)\n",
        "A.extend(B)\n",
        "print(A)"
      ],
      "metadata": {
        "colab": {
          "base_uri": "https://localhost:8080/"
        },
        "id": "rIqthGIjHgDn",
        "outputId": "1eda769b-38ba-49e2-d9d2-4c4982f981d7"
      },
      "execution_count": null,
      "outputs": [
        {
          "output_type": "stream",
          "name": "stdout",
          "text": [
            "[1, 3, 2, 4, 5]\n",
            "[5, 6, 7, 3, 6]\n",
            "[1, 3, 2, 4, 5, 5, 6, 7, 3, 6]\n"
          ]
        }
      ]
    },
    {
      "cell_type": "markdown",
      "source": [
        "TUPLES"
      ],
      "metadata": {
        "id": "vLMMa-Z4Hjyn"
      }
    },
    {
      "cell_type": "code",
      "source": [
        "\n",
        "a=(5,)\n",
        "print(a)\n",
        "print(type(a))"
      ],
      "metadata": {
        "colab": {
          "base_uri": "https://localhost:8080/"
        },
        "id": "AjTtRNb4HiBX",
        "outputId": "ae5566b6-cbf5-4573-e2f7-f5c6e358bf05"
      },
      "execution_count": null,
      "outputs": [
        {
          "output_type": "stream",
          "name": "stdout",
          "text": [
            "(5,)\n",
            "<class 'tuple'>\n"
          ]
        }
      ]
    },
    {
      "cell_type": "code",
      "source": [
        "#creating tuple with integers\n",
        "a=(1,2,3,4,5)\n",
        "print(a)"
      ],
      "metadata": {
        "colab": {
          "base_uri": "https://localhost:8080/"
        },
        "id": "xS9GqsQxHwPH",
        "outputId": "49fbfc3c-36ee-43b2-a37c-01a378c5fadc"
      },
      "execution_count": null,
      "outputs": [
        {
          "output_type": "stream",
          "name": "stdout",
          "text": [
            "(1, 2, 3, 4, 5)\n"
          ]
        }
      ]
    },
    {
      "cell_type": "code",
      "source": [
        "#creating tuple with float numbers\n",
        "b=(6.5,5.9,2.0)\n",
        "print(b)"
      ],
      "metadata": {
        "colab": {
          "base_uri": "https://localhost:8080/"
        },
        "id": "TomFlAU2Hz1P",
        "outputId": "ecce0d51-e842-41b0-c507-214e3eb4620b"
      },
      "execution_count": null,
      "outputs": [
        {
          "output_type": "stream",
          "name": "stdout",
          "text": [
            "(6.5, 5.9, 2.0)\n"
          ]
        }
      ]
    },
    {
      "cell_type": "code",
      "source": [
        "#creating tuple with strings\n",
        "c=('one','two','three')\n",
        "c"
      ],
      "metadata": {
        "colab": {
          "base_uri": "https://localhost:8080/"
        },
        "id": "CNsxqtFiH1an",
        "outputId": "c8f8b21d-dd7b-400e-f3de-36f00b20d707"
      },
      "execution_count": null,
      "outputs": [
        {
          "output_type": "execute_result",
          "data": {
            "text/plain": [
              "('one', 'two', 'three')"
            ]
          },
          "metadata": {},
          "execution_count": 17
        }
      ]
    },
    {
      "cell_type": "code",
      "source": [
        "#creating tuple multiple data types\n",
        "mix=('hello',708,66.8,1,2)\n",
        "mix"
      ],
      "metadata": {
        "colab": {
          "base_uri": "https://localhost:8080/"
        },
        "id": "8QD2FM8WH3iv",
        "outputId": "78dad5ed-d8cf-40a9-f170-36caea1ad910"
      },
      "execution_count": null,
      "outputs": [
        {
          "output_type": "execute_result",
          "data": {
            "text/plain": [
              "('hello', 708, 66.8, 1, 2)"
            ]
          },
          "metadata": {},
          "execution_count": 16
        }
      ]
    },
    {
      "cell_type": "code",
      "source": [
        "#accessing items of tuple\n",
        "a=(1,2,3,4,'hello')\n",
        "print(a[4])"
      ],
      "metadata": {
        "colab": {
          "base_uri": "https://localhost:8080/"
        },
        "id": "4p6AHSHIH5B3",
        "outputId": "814f2a6e-b93c-4a4c-d1d1-eeed89e28370"
      },
      "execution_count": null,
      "outputs": [
        {
          "output_type": "stream",
          "name": "stdout",
          "text": [
            "hello\n"
          ]
        }
      ]
    },
    {
      "cell_type": "markdown",
      "source": [
        "Dictionary"
      ],
      "metadata": {
        "id": "rQDhBBF8INUv"
      }
    },
    {
      "cell_type": "code",
      "source": [
        "a={\n",
        "'name':'joy',\n",
        "'age':23,\n",
        "'education':'Engineer'\n",
        "}\n",
        "print(a)"
      ],
      "metadata": {
        "colab": {
          "base_uri": "https://localhost:8080/"
        },
        "id": "AbPvUczOH7Jn",
        "outputId": "b3d0295c-1ed9-4bd9-f8e6-ab787f245233"
      },
      "execution_count": null,
      "outputs": [
        {
          "output_type": "stream",
          "name": "stdout",
          "text": [
            "{'name': 'joy', 'age': 23, 'education': 'Engineer'}\n"
          ]
        }
      ]
    },
    {
      "cell_type": "code",
      "source": [
        "len(a)"
      ],
      "metadata": {
        "colab": {
          "base_uri": "https://localhost:8080/"
        },
        "id": "WFh1p7HYIQiu",
        "outputId": "a5f5f0ed-a69e-4124-acf8-1590e8b60038"
      },
      "execution_count": null,
      "outputs": [
        {
          "output_type": "execute_result",
          "data": {
            "text/plain": [
              "3"
            ]
          },
          "metadata": {},
          "execution_count": 40
        }
      ]
    },
    {
      "cell_type": "code",
      "source": [
        "type(a)"
      ],
      "metadata": {
        "colab": {
          "base_uri": "https://localhost:8080/"
        },
        "id": "hjGtFyeBISwG",
        "outputId": "d6681653-40c1-4491-dca1-40a607b71879"
      },
      "execution_count": null,
      "outputs": [
        {
          "output_type": "execute_result",
          "data": {
            "text/plain": [
              "dict"
            ]
          },
          "metadata": {},
          "execution_count": 41
        }
      ]
    },
    {
      "cell_type": "code",
      "source": [
        "x=a.keys()\n",
        "x"
      ],
      "metadata": {
        "colab": {
          "base_uri": "https://localhost:8080/"
        },
        "id": "JEfX3U5KIUuA",
        "outputId": "3bd5fdd4-f4f4-49b9-e5fc-989f534eb2a6"
      },
      "execution_count": null,
      "outputs": [
        {
          "output_type": "execute_result",
          "data": {
            "text/plain": [
              "dict_keys(['name', 'age', 'education'])"
            ]
          },
          "metadata": {},
          "execution_count": 42
        }
      ]
    },
    {
      "cell_type": "code",
      "source": [
        "y=a.values()\n",
        "y"
      ],
      "metadata": {
        "colab": {
          "base_uri": "https://localhost:8080/"
        },
        "id": "loy1jNKUIaZ0",
        "outputId": "0d32c484-842e-498e-bc71-b20d1bba6c72"
      },
      "execution_count": null,
      "outputs": [
        {
          "output_type": "execute_result",
          "data": {
            "text/plain": [
              "dict_values(['joy', 23, 'Engineer'])"
            ]
          },
          "metadata": {},
          "execution_count": 43
        }
      ]
    },
    {
      "cell_type": "code",
      "source": [
        "z=a.items()\n",
        "z"
      ],
      "metadata": {
        "colab": {
          "base_uri": "https://localhost:8080/"
        },
        "id": "AXam1a47IbMV",
        "outputId": "d85f99e0-86e2-4895-898f-cc2876f2bd14"
      },
      "execution_count": null,
      "outputs": [
        {
          "output_type": "execute_result",
          "data": {
            "text/plain": [
              "dict_items([('name', 'joy'), ('age', 23), ('education', 'Engineer')])"
            ]
          },
          "metadata": {},
          "execution_count": 44
        }
      ]
    },
    {
      "cell_type": "markdown",
      "source": [
        "Sets"
      ],
      "metadata": {
        "id": "LTSQJvn6IgYk"
      }
    },
    {
      "cell_type": "code",
      "source": [
        "set1={1,2,3,4}\n",
        "print(set1)"
      ],
      "metadata": {
        "colab": {
          "base_uri": "https://localhost:8080/"
        },
        "id": "t6vJ0ktOIdg1",
        "outputId": "784e4be8-f3b6-495d-e796-cab7a89961fd"
      },
      "execution_count": null,
      "outputs": [
        {
          "output_type": "stream",
          "name": "stdout",
          "text": [
            "{1, 2, 3, 4}\n"
          ]
        }
      ]
    },
    {
      "cell_type": "code",
      "source": [
        "#3 duplicates not allowed\n",
        "set={1,2,3,4,5,6,7,1,1}\n",
        "set"
      ],
      "metadata": {
        "colab": {
          "base_uri": "https://localhost:8080/"
        },
        "id": "6jKT202NIkqM",
        "outputId": "e3cfc586-3949-4e26-92f0-cb395a18c3c5"
      },
      "execution_count": null,
      "outputs": [
        {
          "output_type": "execute_result",
          "data": {
            "text/plain": [
              "{1, 2, 3, 4, 5, 6, 7}"
            ]
          },
          "metadata": {},
          "execution_count": 47
        }
      ]
    },
    {
      "cell_type": "code",
      "source": [
        "len(set)"
      ],
      "metadata": {
        "colab": {
          "base_uri": "https://localhost:8080/"
        },
        "id": "VUyfhee7Irco",
        "outputId": "96862a51-221b-4c2f-ccb2-30ea9921a53f"
      },
      "execution_count": null,
      "outputs": [
        {
          "output_type": "execute_result",
          "data": {
            "text/plain": [
              "7"
            ]
          },
          "metadata": {},
          "execution_count": 48
        }
      ]
    },
    {
      "cell_type": "code",
      "source": [
        "type(set)"
      ],
      "metadata": {
        "colab": {
          "base_uri": "https://localhost:8080/"
        },
        "id": "FeOwZARFIuQ5",
        "outputId": "aed17d8c-2f95-4c5b-b49e-ba26224e7929"
      },
      "execution_count": null,
      "outputs": [
        {
          "output_type": "execute_result",
          "data": {
            "text/plain": [
              "set"
            ]
          },
          "metadata": {},
          "execution_count": 49
        }
      ]
    },
    {
      "cell_type": "markdown",
      "source": [
        "functions"
      ],
      "metadata": {
        "id": "IOSp33G5I1FA"
      }
    },
    {
      "cell_type": "code",
      "source": [
        "def add():\n",
        " a=2\n",
        " b=3\n",
        " sum=a+b\n",
        " return sum\n",
        "add()\n",
        "print(add())"
      ],
      "metadata": {
        "colab": {
          "base_uri": "https://localhost:8080/"
        },
        "id": "afOTZeqQIwUA",
        "outputId": "e02ee2f0-a163-4520-9207-8d6e83dac54e"
      },
      "execution_count": null,
      "outputs": [
        {
          "output_type": "stream",
          "name": "stdout",
          "text": [
            "5\n"
          ]
        }
      ]
    },
    {
      "cell_type": "code",
      "source": [
        "def collectdata():\n",
        "    \"\"\"Function to collect data.\"\"\"\n",
        "    print(\"Collecting data...\")\n",
        "def cleandata():\n",
        "    \"\"\"Function to clean data.\"\"\"\n",
        "    print(\"Cleaning data...\")\n",
        "def processdata():\n",
        "    \"\"\"Function to pre-process the data.\"\"\"\n",
        "    print(\"Processing data...\")\n",
        "def exploredata():\n",
        "    \"\"\"Function to explore data.\"\"\"\n",
        "    print(\"Exploring data...\")\n",
        "def visualization():\n",
        "    \"\"\"Function to visualize data.\"\"\"\n",
        "    print(\"Visualizing data...\")\n",
        "if __name__ == \"__main__\":\n",
        "    collectdata()\n",
        "    cleandata()\n",
        "    processdata()\n",
        "    exploredata()\n",
        "    visualization()\n"
      ],
      "metadata": {
        "colab": {
          "base_uri": "https://localhost:8080/"
        },
        "id": "JHeqa9qXI3m-",
        "outputId": "71afd587-fe81-4a1f-fe22-a155d8506210"
      },
      "execution_count": null,
      "outputs": [
        {
          "output_type": "stream",
          "name": "stdout",
          "text": [
            "Collecting data...\n",
            "Cleaning data...\n",
            "Processing data...\n",
            "Exploring data...\n",
            "Visualizing data...\n"
          ]
        }
      ]
    }
  ]
}