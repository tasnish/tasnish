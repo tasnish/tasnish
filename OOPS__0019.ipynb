{
  "nbformat": 4,
  "nbformat_minor": 0,
  "metadata": {
    "colab": {
      "provenance": [],
      "authorship_tag": "ABX9TyMBLG5CSoi766mKlZy+lyjH",
      "include_colab_link": true
    },
    "kernelspec": {
      "name": "python3",
      "display_name": "Python 3"
    },
    "language_info": {
      "name": "python"
    }
  },
  "cells": [
    {
      "cell_type": "markdown",
      "metadata": {
        "id": "view-in-github",
        "colab_type": "text"
      },
      "source": [
        "<a href=\"https://colab.research.google.com/github/tasnish/tasnish/blob/main/OOPS__0019.ipynb\" target=\"_parent\"><img src=\"https://colab.research.google.com/assets/colab-badge.svg\" alt=\"Open In Colab\"/></a>"
      ]
    },
    {
      "cell_type": "code",
      "source": [
        "class Employee:\n",
        "   company_name = 'ABC Company'\n",
        "   def __init__(self, name, salary):\n",
        "       self.name = name\n",
        "       self.salary = salary\n",
        "   def show(self):\n",
        "       print('Employee:', self.name, self.salary, self.company_name)\n",
        "emp1 = Employee(\"Harry\", 12000)\n",
        "emp1.show()\n",
        "emp2 = Employee(\"Emma\", 10000)\n",
        "emp2.show()"
      ],
      "metadata": {
        "colab": {
          "base_uri": "https://localhost:8080/"
        },
        "id": "5g4UrySfR90i",
        "outputId": "85072bc5-066c-49fa-d15b-1e6f675493d9"
      },
      "execution_count": 5,
      "outputs": [
        {
          "output_type": "stream",
          "name": "stdout",
          "text": [
            "Employee: Harry 12000 ABC Company\n",
            "Employee: Emma 10000 ABC Company\n"
          ]
        }
      ]
    },
    {
      "cell_type": "markdown",
      "source": [
        "Encapsulation"
      ],
      "metadata": {
        "id": "e5AnqQP8SJd6"
      }
    },
    {
      "cell_type": "code",
      "source": [
        "class Employee:\n",
        "    def __init__(self, name, salary):\n",
        "        # public member\n",
        "        self.name = name\n",
        "        # private member\n",
        "        self.__salary = salary\n",
        "\n",
        "    def show(self):\n",
        "        print(\"Name is \", self.name, \"and salary is\", self.__salary)\n",
        "\n",
        "emp = Employee(\"Jessa\", 40000)\n",
        "emp.show()"
      ],
      "metadata": {
        "colab": {
          "base_uri": "https://localhost:8080/"
        },
        "id": "c6w3boiSSJ-D",
        "outputId": "5f77851b-4b04-47b7-f6e4-a2825313151c"
      },
      "execution_count": 6,
      "outputs": [
        {
          "output_type": "stream",
          "name": "stdout",
          "text": [
            "Name is  Jessa and salary is 40000\n"
          ]
        }
      ]
    },
    {
      "cell_type": "markdown",
      "source": [
        "Polymorphism"
      ],
      "metadata": {
        "id": "QQgfkgSsSXMb"
      }
    },
    {
      "cell_type": "code",
      "source": [
        "class Circle:\n",
        "  pi = 3.14\n",
        "\n",
        "  def __init__(self, radius):\n",
        "    self.radius = radius\n",
        "\n",
        "  def calculate_area(self):\n",
        "    print(\"Area of circle :\", self.pi * self.radius * self.radius)\n",
        "\n",
        "class Rectangle:\n",
        "  def __init__(self, length, width):\n",
        "    self.length = length\n",
        "    self.width = width\n",
        "\n",
        "  def calculate_area(self):\n",
        "    print(\"Area of Rectangle :\", self.length * self.width)\n",
        "\n",
        "def area(shape):\n",
        "  shape.calculate_area()\n",
        "\n",
        "circle = Circle(5)\n",
        "rectangle = Rectangle(4, 6)\n",
        "\n",
        "area(circle)\n",
        "area(rectangle)"
      ],
      "metadata": {
        "colab": {
          "base_uri": "https://localhost:8080/"
        },
        "id": "rQecqb5BS4nL",
        "outputId": "50e7b08c-fdf5-4af1-8bea-b753ea387e8f"
      },
      "execution_count": 8,
      "outputs": [
        {
          "output_type": "stream",
          "name": "stdout",
          "text": [
            "Area of circle : 78.5\n",
            "Area of Rectangle : 24\n"
          ]
        }
      ]
    },
    {
      "cell_type": "code",
      "source": [
        "class Vehicle:\n",
        "  def __init__(self, name, color, price):\n",
        "    self.name = name\n",
        "    self.color = color\n",
        "    self.price = price\n",
        "\n",
        "  def info(self):\n",
        "    print(self.name, self.color, self.price)\n",
        "\n",
        "class Car(Vehicle):\n",
        "  def change_gear(self, no):\n",
        "    print(self.name, 'change gear to number', no)\n",
        "\n",
        "car = Car('BMW X1', 'Black', 35000)\n",
        "car.info()\n",
        "car.change_gear(5)"
      ],
      "metadata": {
        "colab": {
          "base_uri": "https://localhost:8080/"
        },
        "id": "4eEqB1wiS8HT",
        "outputId": "d0bbee8c-cef9-46c7-8bf6-a0db9107e6ce"
      },
      "execution_count": 9,
      "outputs": [
        {
          "output_type": "stream",
          "name": "stdout",
          "text": [
            "BMW X1 Black 35000\n",
            "BMW X1 change gear to number 5\n"
          ]
        }
      ]
    }
  ]
}